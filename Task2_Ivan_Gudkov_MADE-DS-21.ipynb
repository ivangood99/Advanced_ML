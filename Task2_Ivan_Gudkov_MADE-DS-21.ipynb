{
 "cells": [
  {
   "cell_type": "code",
   "execution_count": 1,
   "metadata": {},
   "outputs": [],
   "source": [
    "import numpy as np\n",
    "import matplotlib.pyplot as plt\n",
    "import seaborn as sns\n",
    "import pandas as pd\n",
    "import math\n",
    "from sklearn import linear_model\n",
    "from scipy.stats import multivariate_normal, spearmanr, kendalltau\n",
    "from datetime import date\n",
    "\n",
    "\n",
    "\n",
    "sns.set_style(\"whitegrid\")\n",
    "sns.set_palette(\"colorblind\")\n",
    "palette = sns.color_palette()\n",
    "figsize = (15,8)\n",
    "legend_fontsize = 16"
   ]
  },
  {
   "cell_type": "markdown",
   "metadata": {},
   "source": [
    "<h3>Часть 1. Загрузка и отбор данных</h3>"
   ]
  },
  {
   "cell_type": "code",
   "execution_count": 2,
   "metadata": {},
   "outputs": [],
   "source": [
    "import json, pickle\n",
    "\n",
    "tournaments = pickle.load(open('chgk/tournaments.pkl', 'rb'))\n",
    "results = pickle.load(open('chgk/results.pkl', 'rb'))\n",
    "players = pickle.load(open('chgk/players.pkl', 'rb'))"
   ]
  },
  {
   "cell_type": "code",
   "execution_count": 3,
   "metadata": {},
   "outputs": [],
   "source": [
    "train = {k : v['name'] for k,v in tournaments.items() if v['dateStart'][:4] == '2019' and\n",
    "        len(results[k]) > 0 and\n",
    "        len([p['player']['id'] for p in results[k][0]['teamMembers']]) > 0 and\n",
    "        'mask' in results[k][0].keys() and\n",
    "        results[k][0]['mask'] is not None }# and\n",
    "        #len(results[k][0]['mask']) == sum(tournaments[k]['questionQty'].values())}"
   ]
  },
  {
   "cell_type": "code",
   "execution_count": 4,
   "metadata": {},
   "outputs": [
    {
     "data": {
      "text/plain": [
       "674"
      ]
     },
     "execution_count": 4,
     "metadata": {},
     "output_type": "execute_result"
    }
   ],
   "source": [
    "n_train_tournaments = len(train.keys())\n",
    "n_train_tournaments"
   ]
  },
  {
   "cell_type": "code",
   "execution_count": 5,
   "metadata": {},
   "outputs": [],
   "source": [
    "test = {k : v['name'] for k,v in tournaments.items() if v['dateStart'][:4] == '2020' and\n",
    "        len(results[k]) > 0 and\n",
    "        len([p['player']['id'] for p in results[k][0]['teamMembers']]) > 0 and\n",
    "        'mask' in results[k][0].keys() and\n",
    "        results[k][0]['mask'] is not None} #and\n",
    "        #len(results[k][0]['mask']) == sum(tournaments[k]['questionQty'].values())}"
   ]
  },
  {
   "cell_type": "code",
   "execution_count": 6,
   "metadata": {},
   "outputs": [
    {
     "data": {
      "text/plain": [
       "173"
      ]
     },
     "execution_count": 6,
     "metadata": {},
     "output_type": "execute_result"
    }
   ],
   "source": [
    "len(test.keys())"
   ]
  },
  {
   "cell_type": "markdown",
   "metadata": {},
   "source": [
    "Получили 674 турнира в тренировочном наборе и 173 в тестовом."
   ]
  },
  {
   "cell_type": "markdown",
   "metadata": {},
   "source": [
    "<h3>Часть 2. Рейтинг-лист игрков. Baseline - модель</h3>"
   ]
  },
  {
   "cell_type": "markdown",
   "metadata": {},
   "source": [
    "<h5>Извелечение гипотетически полезных данных</h5>"
   ]
  },
  {
   "cell_type": "markdown",
   "metadata": {},
   "source": [
    "Для обучения baseline-модели было принято решение использовать вопросные результаты ответов игроков из Train-части(считаем, как и было предложено для упрощения, что игрок ответил верно, если его команда ответила верно). В качестве характеристик игрока вытащим из данных долю турниров, в которых он принял участие, долю турниров, в которых его команда заняла первое, второе или третье места, долю правильных ответов, а также среднюю относительную позицию его команды в турнире. Вопросы будем описывать также двумя характеристиками: популярность турнира(нормированное число команд на отрезок от 0 до 1) и сложность вопроса(доля команд турнира, которая на него не ответила). Target-переменная - взят вопрос или нет. "
   ]
  },
  {
   "cell_type": "code",
   "execution_count": 7,
   "metadata": {},
   "outputs": [],
   "source": [
    "def get_questions_complexity(tourn_key):\n",
    "    \n",
    "    max_mask_len = 0\n",
    "    for j in range(len(results[tourn_key])):\n",
    "        if results[tourn_key][0]['mask'] is not None and len(results[tourn_key][0]['mask']) > max_mask_len:\n",
    "            max_mask_len = len(results[tourn_key][0]['mask'])\n",
    "    \n",
    "    \n",
    "    not_answered = [0 for i in range(max_mask_len)]\n",
    "    check = [True for i in range(max_mask_len)]\n",
    "    bad_teams = 0\n",
    "    for team_ind in range(len(results[tourn_key])):\n",
    "        if results[tourn_key][team_ind]['mask'] is None or len(results[tourn_key][team_ind]['mask']) != max_mask_len:\n",
    "            bad_teams += 1\n",
    "            continue\n",
    "        for question_ind in range(len(results[tourn_key][team_ind]['mask'])):\n",
    "            if results[tourn_key][team_ind]['mask'][question_ind] == '0' or results[tourn_key][team_ind]['mask'][question_ind] == '?':\n",
    "                not_answered[question_ind] += 1\n",
    "            elif results[tourn_key][team_ind]['mask'][question_ind] != '1' :\n",
    "                #some problems with question\n",
    "                check[question_ind] = False\n",
    "    not_answered = np.array(not_answered)\n",
    "    not_answered = not_answered[check] / (len(results[tourn_key]) - bad_teams)\n",
    "    return max_mask_len, check, not_answered"
   ]
  },
  {
   "cell_type": "code",
   "execution_count": 8,
   "metadata": {},
   "outputs": [],
   "source": [
    "def get_tournaments_popularities():\n",
    "    all_popularities = {}\n",
    "    for tourn_key in train.keys():\n",
    "        all_popularities[tourn_key] = len(results[tourn_key])\n",
    "    min_popularity = min(all_popularities.values())\n",
    "    max_popularity = max(all_popularities.values())\n",
    "    for tourn_key in train.keys():\n",
    "        all_popularities[tourn_key] = (all_popularities[tourn_key]-min_popularity)/(max_popularity-min_popularity)\n",
    "    return all_popularities"
   ]
  },
  {
   "cell_type": "code",
   "execution_count": 9,
   "metadata": {},
   "outputs": [],
   "source": [
    "dict_top3 = {}\n",
    "dict_participate = {}\n",
    "dict_questions = {}\n",
    "dict_avg_position = {}\n",
    "tournament_popularities = get_tournaments_popularities()\n",
    "\n",
    "for tourn_key in train.keys():\n",
    "    \n",
    "    max_mask_len, check, questions_complexity = get_questions_complexity(tourn_key)\n",
    "    tournament_popularity = tournament_popularities[tourn_key]\n",
    "    popularity_array = [tournament_popularity for i in range(len(questions_complexity))]\n",
    "    \n",
    "    for team_ind in range(len(results[tourn_key])):\n",
    "        \n",
    "        team_mask = results[tourn_key][team_ind]['mask']\n",
    "        \n",
    "        if team_mask is None or len(team_mask) != max_mask_len:\n",
    "            continue\n",
    "            \n",
    "        team_results = []\n",
    "        for i in range(len(team_mask)):\n",
    "            if check[i] and team_mask[i] == '1':\n",
    "                team_results.append(1)\n",
    "            elif check[i]:\n",
    "                team_results.append(0)\n",
    "        \n",
    "        \n",
    "        for member_ind in range(len(results[tourn_key][team_ind]['teamMembers'])):\n",
    "            player_id = results[tourn_key][team_ind]['teamMembers'][member_ind]['player']['id']\n",
    "            \n",
    "            if player_id in dict_participate.keys():\n",
    "                dict_participate[player_id] += 1\n",
    "            else:\n",
    "                dict_participate[player_id] = 1\n",
    "                \n",
    "            if player_id in dict_avg_position.keys():\n",
    "                dict_avg_position[player_id].append(1 - (team_ind + 1) / len(results[tourn_key]))\n",
    "            else:\n",
    "                dict_avg_position[player_id] = [1 - (team_ind + 1) / len(results[tourn_key])]\n",
    "                \n",
    "            if player_id in dict_top3.keys() and team_ind <= 2:\n",
    "                dict_top3[player_id] += 1\n",
    "            elif player_id not in dict_top3.keys() and team_ind <= 2:\n",
    "                dict_top3[player_id] = 1\n",
    "            elif player_id not in dict_top3.keys():\n",
    "                dict_top3[player_id] = 0  \n",
    "            \n",
    "            \n",
    "            if player_id in dict_questions.keys():\n",
    "                dict_questions[player_id]['popularity'].extend(popularity_array)\n",
    "                dict_questions[player_id]['complexity'].extend(questions_complexity)\n",
    "                dict_questions[player_id]['result'].extend(team_results)\n",
    "                dict_questions[player_id]['team'].extend([results[tourn_key][team_ind]['team']['id'] for _ in range(len(popularity_array))])\n",
    "                dict_questions[player_id]['tournament'].extend([tourn_key for _ in range(len(popularity_array))])\n",
    "                dict_questions[player_id]['members'].extend([len(results[tourn_key][team_ind]['teamMembers']) for _ in range(len(popularity_array))])\n",
    "                dict_questions[player_id]['questions'].extend([r for r in range(len(popularity_array))])\n",
    "            else:\n",
    "                dict_questions[player_id] = {'popularity' : [],\n",
    "                                            'complexity' : [],\n",
    "                                            'result':[],\n",
    "                                            'team':[],\n",
    "                                            'tournament':[],\n",
    "                                            'members':[],\n",
    "                                            'questions':[]}\n",
    "            "
   ]
  },
  {
   "cell_type": "code",
   "execution_count": 10,
   "metadata": {},
   "outputs": [
    {
     "name": "stderr",
     "output_type": "stream",
     "text": [
      "/Users/gudkovivan/mupdated_miniconda/lib/python3.8/site-packages/numpy/core/fromnumeric.py:3372: RuntimeWarning: Mean of empty slice.\n",
      "  return _methods._mean(a, axis=axis, dtype=dtype,\n",
      "/Users/gudkovivan/mupdated_miniconda/lib/python3.8/site-packages/numpy/core/_methods.py:170: RuntimeWarning: invalid value encountered in double_scalars\n",
      "  ret = ret.dtype.type(ret / rcount)\n"
     ]
    }
   ],
   "source": [
    "main_data_dict = {'tournament_id' : [],\n",
    "                 'team_id' : [],\n",
    "                 'n_members':[],\n",
    "                 'player_id' : [],\n",
    "                 'question_id' :[],\n",
    "                 'games': [],\n",
    "                 'top': [],\n",
    "                 'correct' : [],\n",
    "                 'position': [],\n",
    "                 'popularity' : [],\n",
    "                 'complexity' : [],\n",
    "                 'result' : []}\n",
    "for key in dict_participate.keys():\n",
    "    n_questions = len(dict_questions[key]['result'])\n",
    "    main_data_dict['tournament_id'].extend(dict_questions[key]['tournament'])\n",
    "    main_data_dict['team_id'].extend(dict_questions[key]['team'])\n",
    "    main_data_dict['n_members'].extend(dict_questions[key]['members'])\n",
    "    main_data_dict['player_id'].extend([key for _ in range(n_questions)])\n",
    "    main_data_dict['question_id'].extend(dict_questions[key]['questions'])\n",
    "    main_data_dict['games'].extend([dict_participate[key] / len(train.keys()) for _ in range(n_questions)])\n",
    "    main_data_dict['top'].extend([dict_top3[key] / len(train.keys()) for _ in range(n_questions)])\n",
    "    main_data_dict['popularity'].extend(dict_questions[key]['popularity'])\n",
    "    mean_pos = np.mean(dict_avg_position[key])\n",
    "    main_data_dict['position'].extend([mean_pos for _ in range(n_questions)])\n",
    "    main_data_dict['complexity'].extend(dict_questions[key]['complexity'])\n",
    "    main_data_dict['result'].extend(dict_questions[key]['result'])\n",
    "    correct_part = np.mean(dict_questions[key]['result'])\n",
    "    main_data_dict['correct'].extend([correct_part for _ in range(len(dict_questions[key]['result']))])"
   ]
  },
  {
   "cell_type": "code",
   "execution_count": 11,
   "metadata": {},
   "outputs": [],
   "source": [
    "df = pd.DataFrame(data=main_data_dict)"
   ]
  },
  {
   "cell_type": "code",
   "execution_count": 12,
   "metadata": {},
   "outputs": [
    {
     "data": {
      "text/html": [
       "<div>\n",
       "<style scoped>\n",
       "    .dataframe tbody tr th:only-of-type {\n",
       "        vertical-align: middle;\n",
       "    }\n",
       "\n",
       "    .dataframe tbody tr th {\n",
       "        vertical-align: top;\n",
       "    }\n",
       "\n",
       "    .dataframe thead th {\n",
       "        text-align: right;\n",
       "    }\n",
       "</style>\n",
       "<table border=\"1\" class=\"dataframe\">\n",
       "  <thead>\n",
       "    <tr style=\"text-align: right;\">\n",
       "      <th></th>\n",
       "      <th>tournament_id</th>\n",
       "      <th>team_id</th>\n",
       "      <th>n_members</th>\n",
       "      <th>player_id</th>\n",
       "      <th>question_id</th>\n",
       "      <th>games</th>\n",
       "      <th>top</th>\n",
       "      <th>correct</th>\n",
       "      <th>position</th>\n",
       "      <th>popularity</th>\n",
       "      <th>complexity</th>\n",
       "      <th>result</th>\n",
       "    </tr>\n",
       "  </thead>\n",
       "  <tbody>\n",
       "    <tr>\n",
       "      <th>0</th>\n",
       "      <td>4973</td>\n",
       "      <td>45556</td>\n",
       "      <td>6</td>\n",
       "      <td>6212</td>\n",
       "      <td>0</td>\n",
       "      <td>0.118694</td>\n",
       "      <td>0.051929</td>\n",
       "      <td>0.708741</td>\n",
       "      <td>0.929924</td>\n",
       "      <td>0.508424</td>\n",
       "      <td>0.438169</td>\n",
       "      <td>1</td>\n",
       "    </tr>\n",
       "    <tr>\n",
       "      <th>1</th>\n",
       "      <td>4973</td>\n",
       "      <td>45556</td>\n",
       "      <td>6</td>\n",
       "      <td>6212</td>\n",
       "      <td>1</td>\n",
       "      <td>0.118694</td>\n",
       "      <td>0.051929</td>\n",
       "      <td>0.708741</td>\n",
       "      <td>0.929924</td>\n",
       "      <td>0.508424</td>\n",
       "      <td>0.196689</td>\n",
       "      <td>1</td>\n",
       "    </tr>\n",
       "    <tr>\n",
       "      <th>2</th>\n",
       "      <td>4973</td>\n",
       "      <td>45556</td>\n",
       "      <td>6</td>\n",
       "      <td>6212</td>\n",
       "      <td>2</td>\n",
       "      <td>0.118694</td>\n",
       "      <td>0.051929</td>\n",
       "      <td>0.708741</td>\n",
       "      <td>0.929924</td>\n",
       "      <td>0.508424</td>\n",
       "      <td>0.226874</td>\n",
       "      <td>1</td>\n",
       "    </tr>\n",
       "    <tr>\n",
       "      <th>3</th>\n",
       "      <td>4973</td>\n",
       "      <td>45556</td>\n",
       "      <td>6</td>\n",
       "      <td>6212</td>\n",
       "      <td>3</td>\n",
       "      <td>0.118694</td>\n",
       "      <td>0.051929</td>\n",
       "      <td>0.708741</td>\n",
       "      <td>0.929924</td>\n",
       "      <td>0.508424</td>\n",
       "      <td>0.460565</td>\n",
       "      <td>1</td>\n",
       "    </tr>\n",
       "    <tr>\n",
       "      <th>4</th>\n",
       "      <td>4973</td>\n",
       "      <td>45556</td>\n",
       "      <td>6</td>\n",
       "      <td>6212</td>\n",
       "      <td>4</td>\n",
       "      <td>0.118694</td>\n",
       "      <td>0.051929</td>\n",
       "      <td>0.708741</td>\n",
       "      <td>0.929924</td>\n",
       "      <td>0.508424</td>\n",
       "      <td>0.703019</td>\n",
       "      <td>1</td>\n",
       "    </tr>\n",
       "  </tbody>\n",
       "</table>\n",
       "</div>"
      ],
      "text/plain": [
       "   tournament_id  team_id  n_members  player_id  question_id     games  \\\n",
       "0           4973    45556          6       6212            0  0.118694   \n",
       "1           4973    45556          6       6212            1  0.118694   \n",
       "2           4973    45556          6       6212            2  0.118694   \n",
       "3           4973    45556          6       6212            3  0.118694   \n",
       "4           4973    45556          6       6212            4  0.118694   \n",
       "\n",
       "        top   correct  position  popularity  complexity  result  \n",
       "0  0.051929  0.708741  0.929924    0.508424    0.438169       1  \n",
       "1  0.051929  0.708741  0.929924    0.508424    0.196689       1  \n",
       "2  0.051929  0.708741  0.929924    0.508424    0.226874       1  \n",
       "3  0.051929  0.708741  0.929924    0.508424    0.460565       1  \n",
       "4  0.051929  0.708741  0.929924    0.508424    0.703019       1  "
      ]
     },
     "execution_count": 12,
     "metadata": {},
     "output_type": "execute_result"
    }
   ],
   "source": [
    "df.head()"
   ]
  },
  {
   "cell_type": "code",
   "execution_count": 13,
   "metadata": {
    "scrolled": true
   },
   "outputs": [
    {
     "data": {
      "text/html": [
       "<div>\n",
       "<style scoped>\n",
       "    .dataframe tbody tr th:only-of-type {\n",
       "        vertical-align: middle;\n",
       "    }\n",
       "\n",
       "    .dataframe tbody tr th {\n",
       "        vertical-align: top;\n",
       "    }\n",
       "\n",
       "    .dataframe thead th {\n",
       "        text-align: right;\n",
       "    }\n",
       "</style>\n",
       "<table border=\"1\" class=\"dataframe\">\n",
       "  <thead>\n",
       "    <tr style=\"text-align: right;\">\n",
       "      <th></th>\n",
       "      <th>tournament_id</th>\n",
       "      <th>team_id</th>\n",
       "      <th>n_members</th>\n",
       "      <th>player_id</th>\n",
       "      <th>question_id</th>\n",
       "      <th>games</th>\n",
       "      <th>top</th>\n",
       "      <th>correct</th>\n",
       "      <th>position</th>\n",
       "      <th>popularity</th>\n",
       "      <th>complexity</th>\n",
       "      <th>result</th>\n",
       "    </tr>\n",
       "  </thead>\n",
       "  <tbody>\n",
       "    <tr>\n",
       "      <th>15457986</th>\n",
       "      <td>6254</td>\n",
       "      <td>64197</td>\n",
       "      <td>11</td>\n",
       "      <td>223782</td>\n",
       "      <td>211</td>\n",
       "      <td>0.002967</td>\n",
       "      <td>0.0</td>\n",
       "      <td>0.490741</td>\n",
       "      <td>0.549232</td>\n",
       "      <td>0.418236</td>\n",
       "      <td>0.367876</td>\n",
       "      <td>1</td>\n",
       "    </tr>\n",
       "    <tr>\n",
       "      <th>15457987</th>\n",
       "      <td>6254</td>\n",
       "      <td>64197</td>\n",
       "      <td>11</td>\n",
       "      <td>223782</td>\n",
       "      <td>212</td>\n",
       "      <td>0.002967</td>\n",
       "      <td>0.0</td>\n",
       "      <td>0.490741</td>\n",
       "      <td>0.549232</td>\n",
       "      <td>0.418236</td>\n",
       "      <td>0.756477</td>\n",
       "      <td>0</td>\n",
       "    </tr>\n",
       "    <tr>\n",
       "      <th>15457988</th>\n",
       "      <td>6254</td>\n",
       "      <td>64197</td>\n",
       "      <td>11</td>\n",
       "      <td>223782</td>\n",
       "      <td>213</td>\n",
       "      <td>0.002967</td>\n",
       "      <td>0.0</td>\n",
       "      <td>0.490741</td>\n",
       "      <td>0.549232</td>\n",
       "      <td>0.418236</td>\n",
       "      <td>0.922280</td>\n",
       "      <td>0</td>\n",
       "    </tr>\n",
       "    <tr>\n",
       "      <th>15457989</th>\n",
       "      <td>6254</td>\n",
       "      <td>64197</td>\n",
       "      <td>11</td>\n",
       "      <td>223782</td>\n",
       "      <td>214</td>\n",
       "      <td>0.002967</td>\n",
       "      <td>0.0</td>\n",
       "      <td>0.490741</td>\n",
       "      <td>0.549232</td>\n",
       "      <td>0.418236</td>\n",
       "      <td>0.891192</td>\n",
       "      <td>0</td>\n",
       "    </tr>\n",
       "    <tr>\n",
       "      <th>15457990</th>\n",
       "      <td>6254</td>\n",
       "      <td>64197</td>\n",
       "      <td>11</td>\n",
       "      <td>223782</td>\n",
       "      <td>215</td>\n",
       "      <td>0.002967</td>\n",
       "      <td>0.0</td>\n",
       "      <td>0.490741</td>\n",
       "      <td>0.549232</td>\n",
       "      <td>0.418236</td>\n",
       "      <td>0.481865</td>\n",
       "      <td>1</td>\n",
       "    </tr>\n",
       "  </tbody>\n",
       "</table>\n",
       "</div>"
      ],
      "text/plain": [
       "          tournament_id  team_id  n_members  player_id  question_id     games  \\\n",
       "15457986           6254    64197         11     223782          211  0.002967   \n",
       "15457987           6254    64197         11     223782          212  0.002967   \n",
       "15457988           6254    64197         11     223782          213  0.002967   \n",
       "15457989           6254    64197         11     223782          214  0.002967   \n",
       "15457990           6254    64197         11     223782          215  0.002967   \n",
       "\n",
       "          top   correct  position  popularity  complexity  result  \n",
       "15457986  0.0  0.490741  0.549232    0.418236    0.367876       1  \n",
       "15457987  0.0  0.490741  0.549232    0.418236    0.756477       0  \n",
       "15457988  0.0  0.490741  0.549232    0.418236    0.922280       0  \n",
       "15457989  0.0  0.490741  0.549232    0.418236    0.891192       0  \n",
       "15457990  0.0  0.490741  0.549232    0.418236    0.481865       1  "
      ]
     },
     "execution_count": 13,
     "metadata": {},
     "output_type": "execute_result"
    }
   ],
   "source": [
    "df.tail()"
   ]
  },
  {
   "cell_type": "code",
   "execution_count": 14,
   "metadata": {},
   "outputs": [],
   "source": [
    "from sklearn.linear_model import LogisticRegression\n",
    "\n",
    "X_train, y_train = (df.loc[:, 'games':'complexity'], df.loc[:, 'result'])\n",
    "clf = LogisticRegression().fit(X_train, y_train)"
   ]
  },
  {
   "cell_type": "code",
   "execution_count": 15,
   "metadata": {},
   "outputs": [
    {
     "data": {
      "text/plain": [
       "0    8476231\n",
       "1    6981760\n",
       "Name: result, dtype: int64"
      ]
     },
     "execution_count": 15,
     "metadata": {},
     "output_type": "execute_result"
    }
   ],
   "source": [
    "y_train.value_counts()"
   ]
  },
  {
   "cell_type": "code",
   "execution_count": 16,
   "metadata": {},
   "outputs": [
    {
     "data": {
      "text/plain": [
       "0.7588105724734864"
      ]
     },
     "execution_count": 16,
     "metadata": {},
     "output_type": "execute_result"
    }
   ],
   "source": [
    "clf.score(X_train, y_train)"
   ]
  },
  {
   "cell_type": "code",
   "execution_count": 17,
   "metadata": {},
   "outputs": [
    {
     "data": {
      "text/plain": [
       "array([[ 0.15398907,  2.26489383,  2.70683066,  1.97179501,  0.08539625,\n",
       "        -5.61193705]])"
      ]
     },
     "execution_count": 17,
     "metadata": {},
     "output_type": "execute_result"
    }
   ],
   "source": [
    "clf.coef_"
   ]
  },
  {
   "cell_type": "code",
   "execution_count": 18,
   "metadata": {},
   "outputs": [],
   "source": [
    "predicted_probas = clf.predict_proba(df.loc[:, 'games':'complexity'])[:,1]"
   ]
  },
  {
   "cell_type": "code",
   "execution_count": 19,
   "metadata": {},
   "outputs": [],
   "source": [
    "df['rating'] = predicted_probas"
   ]
  },
  {
   "cell_type": "code",
   "execution_count": 20,
   "metadata": {},
   "outputs": [],
   "source": [
    "rating = df.groupby('player_id', as_index=False).rating.mean().sort_values(by=['rating'], ascending = False)"
   ]
  },
  {
   "cell_type": "code",
   "execution_count": 21,
   "metadata": {},
   "outputs": [
    {
     "data": {
      "text/html": [
       "<div>\n",
       "<style scoped>\n",
       "    .dataframe tbody tr th:only-of-type {\n",
       "        vertical-align: middle;\n",
       "    }\n",
       "\n",
       "    .dataframe tbody tr th {\n",
       "        vertical-align: top;\n",
       "    }\n",
       "\n",
       "    .dataframe thead th {\n",
       "        text-align: right;\n",
       "    }\n",
       "</style>\n",
       "<table border=\"1\" class=\"dataframe\">\n",
       "  <thead>\n",
       "    <tr style=\"text-align: right;\">\n",
       "      <th></th>\n",
       "      <th>player_id</th>\n",
       "      <th>rating</th>\n",
       "    </tr>\n",
       "  </thead>\n",
       "  <tbody>\n",
       "    <tr>\n",
       "      <th>27465</th>\n",
       "      <td>202413</td>\n",
       "      <td>0.868559</td>\n",
       "    </tr>\n",
       "    <tr>\n",
       "      <th>8840</th>\n",
       "      <td>101782</td>\n",
       "      <td>0.866693</td>\n",
       "    </tr>\n",
       "    <tr>\n",
       "      <th>26626</th>\n",
       "      <td>200556</td>\n",
       "      <td>0.856468</td>\n",
       "    </tr>\n",
       "    <tr>\n",
       "      <th>16427</th>\n",
       "      <td>162084</td>\n",
       "      <td>0.855036</td>\n",
       "    </tr>\n",
       "    <tr>\n",
       "      <th>25670</th>\n",
       "      <td>197605</td>\n",
       "      <td>0.854347</td>\n",
       "    </tr>\n",
       "  </tbody>\n",
       "</table>\n",
       "</div>"
      ],
      "text/plain": [
       "       player_id    rating\n",
       "27465     202413  0.868559\n",
       "8840      101782  0.866693\n",
       "26626     200556  0.856468\n",
       "16427     162084  0.855036\n",
       "25670     197605  0.854347"
      ]
     },
     "execution_count": 21,
     "metadata": {},
     "output_type": "execute_result"
    }
   ],
   "source": [
    "rating.head()"
   ]
  },
  {
   "cell_type": "markdown",
   "metadata": {},
   "source": [
    "Сопоставим имена людей и id и выведем топ игроков baseline-модели"
   ]
  },
  {
   "cell_type": "code",
   "execution_count": 22,
   "metadata": {},
   "outputs": [],
   "source": [
    "player_names = {}\n",
    "for tourn_key in train.keys():\n",
    "    for team_ind in range(len(results[tourn_key])):\n",
    "        for member_ind in range(len(results[tourn_key][team_ind]['teamMembers'])):\n",
    "            player_id = results[tourn_key][team_ind]['teamMembers'][member_ind]['player']['id']\n",
    "            if player_id not in player_names.keys():\n",
    "                player_names[player_id] = results[tourn_key][team_ind]['teamMembers'][member_ind]['player']['surname'] + ' ' + results[tourn_key][team_ind]['teamMembers'][member_ind]['player']['name'] + ' ' + results[tourn_key][team_ind]['teamMembers'][member_ind]['player']['patronymic']"
   ]
  },
  {
   "cell_type": "code",
   "execution_count": 23,
   "metadata": {},
   "outputs": [
    {
     "data": {
      "text/html": [
       "<div>\n",
       "<style scoped>\n",
       "    .dataframe tbody tr th:only-of-type {\n",
       "        vertical-align: middle;\n",
       "    }\n",
       "\n",
       "    .dataframe tbody tr th {\n",
       "        vertical-align: top;\n",
       "    }\n",
       "\n",
       "    .dataframe thead th {\n",
       "        text-align: right;\n",
       "    }\n",
       "</style>\n",
       "<table border=\"1\" class=\"dataframe\">\n",
       "  <thead>\n",
       "    <tr style=\"text-align: right;\">\n",
       "      <th></th>\n",
       "      <th>player_id</th>\n",
       "      <th>rating</th>\n",
       "      <th>names</th>\n",
       "    </tr>\n",
       "  </thead>\n",
       "  <tbody>\n",
       "    <tr>\n",
       "      <th>27465</th>\n",
       "      <td>202413</td>\n",
       "      <td>0.868559</td>\n",
       "      <td>Каменских Мария Александровна</td>\n",
       "    </tr>\n",
       "    <tr>\n",
       "      <th>8840</th>\n",
       "      <td>101782</td>\n",
       "      <td>0.866693</td>\n",
       "      <td>Чистяков Антон Александрович</td>\n",
       "    </tr>\n",
       "    <tr>\n",
       "      <th>26626</th>\n",
       "      <td>200556</td>\n",
       "      <td>0.856468</td>\n",
       "      <td>Иващенко Фёдор Антонович</td>\n",
       "    </tr>\n",
       "    <tr>\n",
       "      <th>16427</th>\n",
       "      <td>162084</td>\n",
       "      <td>0.855036</td>\n",
       "      <td>Пустовий Виталий Дмитриевич</td>\n",
       "    </tr>\n",
       "    <tr>\n",
       "      <th>25670</th>\n",
       "      <td>197605</td>\n",
       "      <td>0.854347</td>\n",
       "      <td>Иловайская Елена</td>\n",
       "    </tr>\n",
       "    <tr>\n",
       "      <th>32957</th>\n",
       "      <td>212514</td>\n",
       "      <td>0.847638</td>\n",
       "      <td>Флимова Анна Александровна</td>\n",
       "    </tr>\n",
       "    <tr>\n",
       "      <th>2419</th>\n",
       "      <td>20056</td>\n",
       "      <td>0.846910</td>\n",
       "      <td>Мартьянов Евгений Михайлович</td>\n",
       "    </tr>\n",
       "    <tr>\n",
       "      <th>24754</th>\n",
       "      <td>194685</td>\n",
       "      <td>0.845630</td>\n",
       "      <td>Сергеев Антон</td>\n",
       "    </tr>\n",
       "    <tr>\n",
       "      <th>4119</th>\n",
       "      <td>34795</td>\n",
       "      <td>0.845630</td>\n",
       "      <td>Черкасова Анастасия</td>\n",
       "    </tr>\n",
       "    <tr>\n",
       "      <th>2368</th>\n",
       "      <td>19622</td>\n",
       "      <td>0.844541</td>\n",
       "      <td>Малькина Ирина Николаевна</td>\n",
       "    </tr>\n",
       "    <tr>\n",
       "      <th>2229</th>\n",
       "      <td>18396</td>\n",
       "      <td>0.840388</td>\n",
       "      <td>Панькова Марина Геннадьевна</td>\n",
       "    </tr>\n",
       "    <tr>\n",
       "      <th>26249</th>\n",
       "      <td>199476</td>\n",
       "      <td>0.836714</td>\n",
       "      <td>Шкурба Сергей</td>\n",
       "    </tr>\n",
       "    <tr>\n",
       "      <th>22977</th>\n",
       "      <td>190432</td>\n",
       "      <td>0.833455</td>\n",
       "      <td>Подгорная Кристина</td>\n",
       "    </tr>\n",
       "    <tr>\n",
       "      <th>24951</th>\n",
       "      <td>195327</td>\n",
       "      <td>0.833288</td>\n",
       "      <td>Кононов Михаил Игоревич</td>\n",
       "    </tr>\n",
       "    <tr>\n",
       "      <th>23522</th>\n",
       "      <td>191534</td>\n",
       "      <td>0.831852</td>\n",
       "      <td>Коваль Ника</td>\n",
       "    </tr>\n",
       "    <tr>\n",
       "      <th>23521</th>\n",
       "      <td>191533</td>\n",
       "      <td>0.831852</td>\n",
       "      <td>Коваль Лидия</td>\n",
       "    </tr>\n",
       "    <tr>\n",
       "      <th>3702</th>\n",
       "      <td>31021</td>\n",
       "      <td>0.828275</td>\n",
       "      <td>Сухотина Алина Леонидовна</td>\n",
       "    </tr>\n",
       "    <tr>\n",
       "      <th>17219</th>\n",
       "      <td>166636</td>\n",
       "      <td>0.826697</td>\n",
       "      <td>Радная Ульяна Александровна</td>\n",
       "    </tr>\n",
       "    <tr>\n",
       "      <th>928</th>\n",
       "      <td>7725</td>\n",
       "      <td>0.826125</td>\n",
       "      <td>Гордин Артём Алексеевич</td>\n",
       "    </tr>\n",
       "    <tr>\n",
       "      <th>34445</th>\n",
       "      <td>218097</td>\n",
       "      <td>0.825703</td>\n",
       "      <td>Чернова Диана Вадимовна</td>\n",
       "    </tr>\n",
       "  </tbody>\n",
       "</table>\n",
       "</div>"
      ],
      "text/plain": [
       "       player_id    rating                          names\n",
       "27465     202413  0.868559  Каменских Мария Александровна\n",
       "8840      101782  0.866693   Чистяков Антон Александрович\n",
       "26626     200556  0.856468       Иващенко Фёдор Антонович\n",
       "16427     162084  0.855036    Пустовий Виталий Дмитриевич\n",
       "25670     197605  0.854347              Иловайская Елена \n",
       "32957     212514  0.847638     Флимова Анна Александровна\n",
       "2419       20056  0.846910   Мартьянов Евгений Михайлович\n",
       "24754     194685  0.845630                 Сергеев Антон \n",
       "4119       34795  0.845630           Черкасова Анастасия \n",
       "2368       19622  0.844541      Малькина Ирина Николаевна\n",
       "2229       18396  0.840388    Панькова Марина Геннадьевна\n",
       "26249     199476  0.836714                 Шкурба Сергей \n",
       "22977     190432  0.833455            Подгорная Кристина \n",
       "24951     195327  0.833288        Кононов Михаил Игоревич\n",
       "23522     191534  0.831852                   Коваль Ника \n",
       "23521     191533  0.831852                  Коваль Лидия \n",
       "3702       31021  0.828275      Сухотина Алина Леонидовна\n",
       "17219     166636  0.826697    Радная Ульяна Александровна\n",
       "928         7725  0.826125        Гордин Артём Алексеевич\n",
       "34445     218097  0.825703        Чернова Диана Вадимовна"
      ]
     },
     "execution_count": 23,
     "metadata": {},
     "output_type": "execute_result"
    }
   ],
   "source": [
    "names = []\n",
    "ids = np.array(rating[['player_id']])\n",
    "for i in range(len(ids)):\n",
    "    names.append(player_names[ids[i][0]])\n",
    "rating['names'] = names\n",
    "rating.head(20)"
   ]
  },
  {
   "cell_type": "markdown",
   "metadata": {},
   "source": [
    "<h3>Часть 3. Baseline - модель. Оценка качества</h3>"
   ]
  },
  {
   "cell_type": "markdown",
   "metadata": {},
   "source": [
    "Попредсказываем результаты турниров на тестовом наборе, используя полученный на предыдущем шаге рейтинг-лист.  Чтобы получить рейтинг команды, усредним рейтинги игроков, входящих в команду. Чем выше будет итоговый рейтинг команды, тем лучше результат она покажет.  \n",
    "Если игрок новый, будем считать, что его рейтинг равен медианному рейтингу всех игроков.\n",
    "Для оценки качества будем считать средние ранговые корреляции Спирмена и Кендалла. \n"
   ]
  },
  {
   "cell_type": "code",
   "execution_count": 24,
   "metadata": {},
   "outputs": [],
   "source": [
    "median_rating = np.median(np.array(rating.rating))\n",
    "\n",
    "spearman_corrs = []\n",
    "kendall_corrs = []\n",
    "for tourn_key in test.keys(): \n",
    "    tourn_results = {'ids':[],\n",
    "                    'real_results':[],\n",
    "                    'predicted_res':[]}\n",
    "    team_ratings = []\n",
    "    flag = True\n",
    "    for team_ind in range(len(results[tourn_key])):\n",
    "        tourn_results['ids'].append(results[tourn_key][team_ind]['team']['id'])\n",
    "        tourn_results['real_results'].append(team_ind + 1)\n",
    "        n_members = len(results[tourn_key][team_ind]['teamMembers'])\n",
    "        if n_members == 0:\n",
    "            flag = False\n",
    "            break\n",
    "        total_rating = 0\n",
    "        for i in range(n_members):\n",
    "            if results[tourn_key][team_ind]['teamMembers'][i]['player']['id'] in ids:\n",
    "                total_rating += float(rating[rating.player_id.isin([results[tourn_key][team_ind]['teamMembers'][i]['player']['id']])].rating)\n",
    "            else:\n",
    "                total_rating += median_rating\n",
    "        total_rating /= n_members\n",
    "        team_ratings.append((results[tourn_key][team_ind]['team']['id'], total_rating))\n",
    "    if not flag:\n",
    "        continue\n",
    "    team_ratings = sorted(team_ratings, key = lambda x: -x[1])\n",
    "    pred_res = [None for _ in range(len(team_ratings))]\n",
    "    for team_ind in range(len(team_ratings)):\n",
    "         pred_res[tourn_results['ids'].index(team_ratings[team_ind][0])] = team_ind + 1\n",
    "    tourn_results['predicted_res'] = pred_res\n",
    "    \n",
    "    coef, p = spearmanr(tourn_results['real_results'], tourn_results['predicted_res'], nan_policy = 'omit')\n",
    "    if coef <= 1:\n",
    "        spearman_corrs.append(coef)\n",
    "    \n",
    "    coef, p = kendalltau(tourn_results['real_results'], tourn_results['predicted_res'], nan_policy = 'omit')\n",
    "    if coef <= 1:\n",
    "        kendall_corrs.append(coef)"
   ]
  },
  {
   "cell_type": "code",
   "execution_count": 25,
   "metadata": {},
   "outputs": [
    {
     "data": {
      "text/plain": [
       "0.6633249941771249"
      ]
     },
     "execution_count": 25,
     "metadata": {},
     "output_type": "execute_result"
    }
   ],
   "source": [
    "np.mean(spearman_corrs)"
   ]
  },
  {
   "cell_type": "code",
   "execution_count": 26,
   "metadata": {},
   "outputs": [
    {
     "data": {
      "text/plain": [
       "0.4979736344898558"
      ]
     },
     "execution_count": 26,
     "metadata": {},
     "output_type": "execute_result"
    }
   ],
   "source": [
    "np.mean(kendall_corrs)"
   ]
  },
  {
   "cell_type": "markdown",
   "metadata": {},
   "source": [
    "<h3>Часть 4. EM-алгоритм</h3>"
   ]
  },
  {
   "cell_type": "markdown",
   "metadata": {},
   "source": [
    "В Baseline-модели мы никак не учитывали, кто из игроков реально ответил на вопрос. Попробуем учесть это. Для этого каждому игроку припишем рейтинг(вероятность ответа на конкретный вопрос), не зависящий от команды, а также вес игрока в команде, в которой он играет(зависит от команды). \n",
    "Логично будем считать, что в ходе обсуждения какой-то игрок предлагает свою версию ответа и все игроки сразу же соглашаются с ней. Вес конкретного игрока показывает, насколько вероятно, что именно с его версией согласятся. Таким образом, вес можно трактовать, как авторитет игрока.\n",
    "Стоит отметить, что выбранной командой версия может быть либо правильной, либо неправильной. Напришивается использовать распределение Бернулли. \n",
    "\n",
    "Перейдем к формальному описанию $EM$-алгоритма. Рассмотрим один конкретный турнир. Для каждой команды-участницы $t$ введем скрытые переменные $Z_{kit}$, прчем $Z_{kit}=1$ тогда и только тогда, когда с версией ответа $k$-го игрока на $i$-й вопрос команды $t$ согласилась вся команда. Командный результат ответа на вопрос будем рассматривать как значение случайной величины с распределением Бернулли с параметром $p_k$, где $p_k$-рейтинг k-го игрока. \n",
    "\n",
    "Тогда на $E$-шаге мы будем вычислять вероятность того, что именно $k$-й игрок ответил на вопрос:\n",
    "\n",
    "$\\gamma_{ik} = \\mathbb{P}(Z_{kit}=1) = \\frac{w_{kt}p_k^{x_{it}}  (1 - p_k)^{x_{it}}}{\\sum_{k = 1}^{K} w_{kt}p_k^{x_{it}} (1 - p_k)^{x_{it}}}$, где $K$ - число игроков в команде $t$, $w_{kt}$ - вес игрока в команде $t$, $x_{it}$ - 1 или 0, результат ответа на $i$-й вопрос командой $t$.\n",
    "\n",
    "На $M$-шаге будем обновлять веса и рейтинг игроков:\n",
    "\n",
    "$w_{kt}^{new} = \\frac{1}{n} \\sum_{i = 1}^{n} \\gamma_{ik}$\n",
    "\n",
    "$p_{k}^{new} = \\frac{\\sum_{i = 1}^{n} \\gamma_{ik}x_i}{\\sum_{i = 1}^{n} \\gamma_{ik}}$\n",
    "\n",
    "Последняя формула была получена из минимизации функционала $\\sum_{i = 1}^{n}\\sum_{k = 1}^{K} \\gamma_{ik} ln(p_k^{x_{i}}  (1 - p_k)^{x_{i}})$ по $p_{k}$\n",
    "\n",
    "Заметим, что мы обновляем рейтинги игроков в каждом турнире независимо, поэтому после $M$-шага будем усреднять новый рейтинг по игрокам. \n",
    "\n",
    "В качестве начального приближения весов(авторитетов игроков) команды возьмем числа, равные обратному числу игроков в команде. В качестве начального приближения рейтинга - бейзлайн-рейтинг\n"
   ]
  },
  {
   "cell_type": "code",
   "execution_count": 27,
   "metadata": {},
   "outputs": [],
   "source": [
    "cur_ratings = {}"
   ]
  },
  {
   "cell_type": "code",
   "execution_count": 28,
   "metadata": {},
   "outputs": [],
   "source": [
    "for i, row in rating.iterrows():\n",
    "    cur_ratings[int(row.player_id)] = row.rating"
   ]
  },
  {
   "cell_type": "code",
   "execution_count": 29,
   "metadata": {},
   "outputs": [
    {
     "data": {
      "text/html": [
       "<div>\n",
       "<style scoped>\n",
       "    .dataframe tbody tr th:only-of-type {\n",
       "        vertical-align: middle;\n",
       "    }\n",
       "\n",
       "    .dataframe tbody tr th {\n",
       "        vertical-align: top;\n",
       "    }\n",
       "\n",
       "    .dataframe thead th {\n",
       "        text-align: right;\n",
       "    }\n",
       "</style>\n",
       "<table border=\"1\" class=\"dataframe\">\n",
       "  <thead>\n",
       "    <tr style=\"text-align: right;\">\n",
       "      <th></th>\n",
       "      <th>tournament_id</th>\n",
       "      <th>team_id</th>\n",
       "      <th>n_members</th>\n",
       "      <th>player_id</th>\n",
       "      <th>question_id</th>\n",
       "      <th>result</th>\n",
       "    </tr>\n",
       "  </thead>\n",
       "  <tbody>\n",
       "    <tr>\n",
       "      <th>0</th>\n",
       "      <td>4973</td>\n",
       "      <td>45556</td>\n",
       "      <td>6</td>\n",
       "      <td>6212</td>\n",
       "      <td>0</td>\n",
       "      <td>1</td>\n",
       "    </tr>\n",
       "    <tr>\n",
       "      <th>1</th>\n",
       "      <td>4973</td>\n",
       "      <td>45556</td>\n",
       "      <td>6</td>\n",
       "      <td>6212</td>\n",
       "      <td>1</td>\n",
       "      <td>1</td>\n",
       "    </tr>\n",
       "    <tr>\n",
       "      <th>2</th>\n",
       "      <td>4973</td>\n",
       "      <td>45556</td>\n",
       "      <td>6</td>\n",
       "      <td>6212</td>\n",
       "      <td>2</td>\n",
       "      <td>1</td>\n",
       "    </tr>\n",
       "    <tr>\n",
       "      <th>3</th>\n",
       "      <td>4973</td>\n",
       "      <td>45556</td>\n",
       "      <td>6</td>\n",
       "      <td>6212</td>\n",
       "      <td>3</td>\n",
       "      <td>1</td>\n",
       "    </tr>\n",
       "    <tr>\n",
       "      <th>4</th>\n",
       "      <td>4973</td>\n",
       "      <td>45556</td>\n",
       "      <td>6</td>\n",
       "      <td>6212</td>\n",
       "      <td>4</td>\n",
       "      <td>1</td>\n",
       "    </tr>\n",
       "  </tbody>\n",
       "</table>\n",
       "</div>"
      ],
      "text/plain": [
       "   tournament_id  team_id  n_members  player_id  question_id  result\n",
       "0           4973    45556          6       6212            0       1\n",
       "1           4973    45556          6       6212            1       1\n",
       "2           4973    45556          6       6212            2       1\n",
       "3           4973    45556          6       6212            3       1\n",
       "4           4973    45556          6       6212            4       1"
      ]
     },
     "execution_count": 29,
     "metadata": {},
     "output_type": "execute_result"
    }
   ],
   "source": [
    "df = df.loc[:, ['tournament_id', 'team_id', 'n_members', 'player_id', 'question_id', 'result']]\n",
    "df.head()"
   ]
  },
  {
   "cell_type": "code",
   "execution_count": 30,
   "metadata": {},
   "outputs": [
    {
     "data": {
      "text/html": [
       "<div>\n",
       "<style scoped>\n",
       "    .dataframe tbody tr th:only-of-type {\n",
       "        vertical-align: middle;\n",
       "    }\n",
       "\n",
       "    .dataframe tbody tr th {\n",
       "        vertical-align: top;\n",
       "    }\n",
       "\n",
       "    .dataframe thead th {\n",
       "        text-align: right;\n",
       "    }\n",
       "</style>\n",
       "<table border=\"1\" class=\"dataframe\">\n",
       "  <thead>\n",
       "    <tr style=\"text-align: right;\">\n",
       "      <th></th>\n",
       "      <th>tournament_id</th>\n",
       "      <th>team_id</th>\n",
       "      <th>n_members</th>\n",
       "      <th>player_id</th>\n",
       "      <th>question_id</th>\n",
       "      <th>result</th>\n",
       "      <th>rating</th>\n",
       "      <th>weight</th>\n",
       "    </tr>\n",
       "  </thead>\n",
       "  <tbody>\n",
       "    <tr>\n",
       "      <th>0</th>\n",
       "      <td>4973</td>\n",
       "      <td>45556</td>\n",
       "      <td>6</td>\n",
       "      <td>6212</td>\n",
       "      <td>0</td>\n",
       "      <td>1</td>\n",
       "      <td>0.703348</td>\n",
       "      <td>0.166667</td>\n",
       "    </tr>\n",
       "    <tr>\n",
       "      <th>1</th>\n",
       "      <td>4973</td>\n",
       "      <td>45556</td>\n",
       "      <td>6</td>\n",
       "      <td>6212</td>\n",
       "      <td>1</td>\n",
       "      <td>1</td>\n",
       "      <td>0.703348</td>\n",
       "      <td>0.166667</td>\n",
       "    </tr>\n",
       "    <tr>\n",
       "      <th>2</th>\n",
       "      <td>4973</td>\n",
       "      <td>45556</td>\n",
       "      <td>6</td>\n",
       "      <td>6212</td>\n",
       "      <td>2</td>\n",
       "      <td>1</td>\n",
       "      <td>0.703348</td>\n",
       "      <td>0.166667</td>\n",
       "    </tr>\n",
       "    <tr>\n",
       "      <th>3</th>\n",
       "      <td>4973</td>\n",
       "      <td>45556</td>\n",
       "      <td>6</td>\n",
       "      <td>6212</td>\n",
       "      <td>3</td>\n",
       "      <td>1</td>\n",
       "      <td>0.703348</td>\n",
       "      <td>0.166667</td>\n",
       "    </tr>\n",
       "    <tr>\n",
       "      <th>4</th>\n",
       "      <td>4973</td>\n",
       "      <td>45556</td>\n",
       "      <td>6</td>\n",
       "      <td>6212</td>\n",
       "      <td>4</td>\n",
       "      <td>1</td>\n",
       "      <td>0.703348</td>\n",
       "      <td>0.166667</td>\n",
       "    </tr>\n",
       "  </tbody>\n",
       "</table>\n",
       "</div>"
      ],
      "text/plain": [
       "   tournament_id  team_id  n_members  player_id  question_id  result  \\\n",
       "0           4973    45556          6       6212            0       1   \n",
       "1           4973    45556          6       6212            1       1   \n",
       "2           4973    45556          6       6212            2       1   \n",
       "3           4973    45556          6       6212            3       1   \n",
       "4           4973    45556          6       6212            4       1   \n",
       "\n",
       "     rating    weight  \n",
       "0  0.703348  0.166667  \n",
       "1  0.703348  0.166667  \n",
       "2  0.703348  0.166667  \n",
       "3  0.703348  0.166667  \n",
       "4  0.703348  0.166667  "
      ]
     },
     "execution_count": 30,
     "metadata": {},
     "output_type": "execute_result"
    }
   ],
   "source": [
    "rating = []\n",
    "weight = []\n",
    "for i, row in df.iterrows():\n",
    "    weight.append(1 / row.n_members)\n",
    "    rating.append(cur_ratings[row.player_id])\n",
    "df['rating'] = rating\n",
    "df['weight'] = weight\n",
    "df.head()"
   ]
  },
  {
   "cell_type": "markdown",
   "metadata": {},
   "source": [
    "Сохраним этот датасет на всякий случай, а то создается он довольно долго..."
   ]
  },
  {
   "cell_type": "code",
   "execution_count": 31,
   "metadata": {},
   "outputs": [],
   "source": [
    "df.to_csv('em_data.csv')"
   ]
  },
  {
   "cell_type": "code",
   "execution_count": 32,
   "metadata": {},
   "outputs": [],
   "source": [
    "df = df.drop(['n_members'], axis = 1)"
   ]
  },
  {
   "cell_type": "code",
   "execution_count": 33,
   "metadata": {},
   "outputs": [
    {
     "data": {
      "text/html": [
       "<div>\n",
       "<style scoped>\n",
       "    .dataframe tbody tr th:only-of-type {\n",
       "        vertical-align: middle;\n",
       "    }\n",
       "\n",
       "    .dataframe tbody tr th {\n",
       "        vertical-align: top;\n",
       "    }\n",
       "\n",
       "    .dataframe thead th {\n",
       "        text-align: right;\n",
       "    }\n",
       "</style>\n",
       "<table border=\"1\" class=\"dataframe\">\n",
       "  <thead>\n",
       "    <tr style=\"text-align: right;\">\n",
       "      <th></th>\n",
       "      <th>tournament_id</th>\n",
       "      <th>team_id</th>\n",
       "      <th>player_id</th>\n",
       "      <th>question_id</th>\n",
       "      <th>result</th>\n",
       "      <th>rating</th>\n",
       "      <th>weight</th>\n",
       "    </tr>\n",
       "  </thead>\n",
       "  <tbody>\n",
       "    <tr>\n",
       "      <th>0</th>\n",
       "      <td>4973</td>\n",
       "      <td>45556</td>\n",
       "      <td>6212</td>\n",
       "      <td>0</td>\n",
       "      <td>1</td>\n",
       "      <td>0.703348</td>\n",
       "      <td>0.166667</td>\n",
       "    </tr>\n",
       "    <tr>\n",
       "      <th>1</th>\n",
       "      <td>4973</td>\n",
       "      <td>45556</td>\n",
       "      <td>6212</td>\n",
       "      <td>1</td>\n",
       "      <td>1</td>\n",
       "      <td>0.703348</td>\n",
       "      <td>0.166667</td>\n",
       "    </tr>\n",
       "    <tr>\n",
       "      <th>2</th>\n",
       "      <td>4973</td>\n",
       "      <td>45556</td>\n",
       "      <td>6212</td>\n",
       "      <td>2</td>\n",
       "      <td>1</td>\n",
       "      <td>0.703348</td>\n",
       "      <td>0.166667</td>\n",
       "    </tr>\n",
       "    <tr>\n",
       "      <th>3</th>\n",
       "      <td>4973</td>\n",
       "      <td>45556</td>\n",
       "      <td>6212</td>\n",
       "      <td>3</td>\n",
       "      <td>1</td>\n",
       "      <td>0.703348</td>\n",
       "      <td>0.166667</td>\n",
       "    </tr>\n",
       "    <tr>\n",
       "      <th>4</th>\n",
       "      <td>4973</td>\n",
       "      <td>45556</td>\n",
       "      <td>6212</td>\n",
       "      <td>4</td>\n",
       "      <td>1</td>\n",
       "      <td>0.703348</td>\n",
       "      <td>0.166667</td>\n",
       "    </tr>\n",
       "  </tbody>\n",
       "</table>\n",
       "</div>"
      ],
      "text/plain": [
       "   tournament_id  team_id  player_id  question_id  result    rating    weight\n",
       "0           4973    45556       6212            0       1  0.703348  0.166667\n",
       "1           4973    45556       6212            1       1  0.703348  0.166667\n",
       "2           4973    45556       6212            2       1  0.703348  0.166667\n",
       "3           4973    45556       6212            3       1  0.703348  0.166667\n",
       "4           4973    45556       6212            4       1  0.703348  0.166667"
      ]
     },
     "execution_count": 33,
     "metadata": {},
     "output_type": "execute_result"
    }
   ],
   "source": [
    "df.head()"
   ]
  },
  {
   "cell_type": "code",
   "execution_count": 34,
   "metadata": {},
   "outputs": [],
   "source": [
    "def e_step(df):\n",
    "    gamma_hidden = np.zeros((len(set(df.question_id)), len(set(df.player_id))))\n",
    "    cur_df = df.groupby(['question_id'])\n",
    "    for g_idx, group in cur_df:\n",
    "        if np.array(group.result)[0] == 1:\n",
    "            arr = np.array(group.rating * group.weight)\n",
    "            gamma_hidden[g_idx] = arr / np.sum(arr)\n",
    "        else:\n",
    "            arr = np.array((1 - group.rating) * group.weight)\n",
    "            gamma_hidden[g_idx] = arr / np.sum(arr)\n",
    "    return gamma_hidden"
   ]
  },
  {
   "cell_type": "code",
   "execution_count": 35,
   "metadata": {},
   "outputs": [],
   "source": [
    "def m_step(gamma, df):\n",
    "    w_new = np.mean(gamma, axis = 0)\n",
    "    p_new = np.sum(gamma * np.array(df.groupby('player_id').result), axis = 1) / np.sum(gamma, axis = 1)\n",
    "    ids = list(set(list(df.player_id)))\n",
    "    result = pd.DataFrame()\n",
    "    result['id'] = ids\n",
    "    result['p_new'] = p_new\n",
    "    result['w_new'] = w_new\n",
    "    return result"
   ]
  },
  {
   "cell_type": "code",
   "execution_count": 36,
   "metadata": {},
   "outputs": [],
   "source": [
    "def em_step(df):\n",
    "    return m_step(e_step(df), df)"
   ]
  },
  {
   "cell_type": "code",
   "execution_count": 37,
   "metadata": {},
   "outputs": [],
   "source": [
    "# df.groupby(['tournament_id', 'team_id']).apply(em_step)"
   ]
  },
  {
   "cell_type": "markdown",
   "metadata": {},
   "source": [
    "А на закоментированной выше ячейке упало ядро... Доделать шаг с усреднением рейтинга по игрокам не вышло и проверить насколько лучше результат у ЕМ-алгоритма соответсвенно тоже("
   ]
  },
  {
   "cell_type": "markdown",
   "metadata": {},
   "source": [
    "<h3>Часть 5. Рейтинг-лист турниров по сложности вопросов</h3>"
   ]
  },
  {
   "cell_type": "markdown",
   "metadata": {},
   "source": [
    "Отсортируем турниры по средней сложности вопросов. Сложностью одного конкретного вопроса в турнире считаем долю команд этого турнира, которые на него не ответили."
   ]
  },
  {
   "cell_type": "code",
   "execution_count": 38,
   "metadata": {},
   "outputs": [],
   "source": [
    "tournaments_complexity = {'ids' : [],\n",
    "                         'complexity':[],\n",
    "                         'name':[]}\n",
    "for tourn_key in train.keys():\n",
    "    max_mask_len, check, complexity = get_questions_complexity(tourn_key)\n",
    "    tournaments_complexity['ids'].append(tourn_key)\n",
    "    tournaments_complexity['complexity'].append(np.mean(complexity))\n",
    "    tournaments_complexity['name'].append(tournaments[tourn_key]['name'])"
   ]
  },
  {
   "cell_type": "code",
   "execution_count": 39,
   "metadata": {},
   "outputs": [],
   "source": [
    "complexity = pd.DataFrame(data=tournaments_complexity)"
   ]
  },
  {
   "cell_type": "code",
   "execution_count": 40,
   "metadata": {},
   "outputs": [
    {
     "data": {
      "text/html": [
       "<div>\n",
       "<style scoped>\n",
       "    .dataframe tbody tr th:only-of-type {\n",
       "        vertical-align: middle;\n",
       "    }\n",
       "\n",
       "    .dataframe tbody tr th {\n",
       "        vertical-align: top;\n",
       "    }\n",
       "\n",
       "    .dataframe thead th {\n",
       "        text-align: right;\n",
       "    }\n",
       "</style>\n",
       "<table border=\"1\" class=\"dataframe\">\n",
       "  <thead>\n",
       "    <tr style=\"text-align: right;\">\n",
       "      <th></th>\n",
       "      <th>ids</th>\n",
       "      <th>complexity</th>\n",
       "      <th>name</th>\n",
       "    </tr>\n",
       "  </thead>\n",
       "  <tbody>\n",
       "    <tr>\n",
       "      <th>662</th>\n",
       "      <td>6149</td>\n",
       "      <td>1.000000</td>\n",
       "      <td>Чемпионат Санкт-Петербурга. Первая лига</td>\n",
       "    </tr>\n",
       "    <tr>\n",
       "      <th>387</th>\n",
       "      <td>5717</td>\n",
       "      <td>0.909402</td>\n",
       "      <td>Чемпионат Таджикистана</td>\n",
       "    </tr>\n",
       "    <tr>\n",
       "      <th>293</th>\n",
       "      <td>5599</td>\n",
       "      <td>0.844048</td>\n",
       "      <td>Чемпионат Туркменистана</td>\n",
       "    </tr>\n",
       "    <tr>\n",
       "      <th>575</th>\n",
       "      <td>5976</td>\n",
       "      <td>0.835648</td>\n",
       "      <td>Открытый Студенческий чемпионат Краснодарского...</td>\n",
       "    </tr>\n",
       "    <tr>\n",
       "      <th>666</th>\n",
       "      <td>6161</td>\n",
       "      <td>0.823188</td>\n",
       "      <td>Студенческий чемпионат Тюменской области</td>\n",
       "    </tr>\n",
       "    <tr>\n",
       "      <th>265</th>\n",
       "      <td>5564</td>\n",
       "      <td>0.815404</td>\n",
       "      <td>Молодёжный чемпионат Нижегородской области</td>\n",
       "    </tr>\n",
       "    <tr>\n",
       "      <th>368</th>\n",
       "      <td>5684</td>\n",
       "      <td>0.811429</td>\n",
       "      <td>Синхрон высшей лиги Москвы</td>\n",
       "    </tr>\n",
       "    <tr>\n",
       "      <th>142</th>\n",
       "      <td>5426</td>\n",
       "      <td>0.799074</td>\n",
       "      <td>Зимник</td>\n",
       "    </tr>\n",
       "    <tr>\n",
       "      <th>328</th>\n",
       "      <td>5637</td>\n",
       "      <td>0.798611</td>\n",
       "      <td>Чемпионат Кыргызстана</td>\n",
       "    </tr>\n",
       "    <tr>\n",
       "      <th>540</th>\n",
       "      <td>5928</td>\n",
       "      <td>0.796508</td>\n",
       "      <td>Угрюмый Ёрш</td>\n",
       "    </tr>\n",
       "  </tbody>\n",
       "</table>\n",
       "</div>"
      ],
      "text/plain": [
       "      ids  complexity                                               name\n",
       "662  6149    1.000000            Чемпионат Санкт-Петербурга. Первая лига\n",
       "387  5717    0.909402                             Чемпионат Таджикистана\n",
       "293  5599    0.844048                            Чемпионат Туркменистана\n",
       "575  5976    0.835648  Открытый Студенческий чемпионат Краснодарского...\n",
       "666  6161    0.823188           Студенческий чемпионат Тюменской области\n",
       "265  5564    0.815404         Молодёжный чемпионат Нижегородской области\n",
       "368  5684    0.811429                         Синхрон высшей лиги Москвы\n",
       "142  5426    0.799074                                             Зимник\n",
       "328  5637    0.798611                              Чемпионат Кыргызстана\n",
       "540  5928    0.796508                                        Угрюмый Ёрш"
      ]
     },
     "execution_count": 40,
     "metadata": {},
     "output_type": "execute_result"
    }
   ],
   "source": [
    "complexity.sort_values(by=['complexity'], ascending = False).head(10)"
   ]
  },
  {
   "cell_type": "code",
   "execution_count": 41,
   "metadata": {},
   "outputs": [
    {
     "data": {
      "text/html": [
       "<div>\n",
       "<style scoped>\n",
       "    .dataframe tbody tr th:only-of-type {\n",
       "        vertical-align: middle;\n",
       "    }\n",
       "\n",
       "    .dataframe tbody tr th {\n",
       "        vertical-align: top;\n",
       "    }\n",
       "\n",
       "    .dataframe thead th {\n",
       "        text-align: right;\n",
       "    }\n",
       "</style>\n",
       "<table border=\"1\" class=\"dataframe\">\n",
       "  <thead>\n",
       "    <tr style=\"text-align: right;\">\n",
       "      <th></th>\n",
       "      <th>ids</th>\n",
       "      <th>complexity</th>\n",
       "      <th>name</th>\n",
       "    </tr>\n",
       "  </thead>\n",
       "  <tbody>\n",
       "    <tr>\n",
       "      <th>327</th>\n",
       "      <td>5636</td>\n",
       "      <td>0.372685</td>\n",
       "      <td>Кубок Закарпатья</td>\n",
       "    </tr>\n",
       "    <tr>\n",
       "      <th>466</th>\n",
       "      <td>5827</td>\n",
       "      <td>0.370500</td>\n",
       "      <td>Шестой киевский марафон. Асинхрон</td>\n",
       "    </tr>\n",
       "    <tr>\n",
       "      <th>523</th>\n",
       "      <td>5899</td>\n",
       "      <td>0.365079</td>\n",
       "      <td>Ничто, нигде, никогда</td>\n",
       "    </tr>\n",
       "    <tr>\n",
       "      <th>544</th>\n",
       "      <td>5935</td>\n",
       "      <td>0.351754</td>\n",
       "      <td>Асинхрон по «Королю и Шуту»</td>\n",
       "    </tr>\n",
       "    <tr>\n",
       "      <th>648</th>\n",
       "      <td>6115</td>\n",
       "      <td>0.339506</td>\n",
       "      <td>Чемпионат МГУ. Высшая лига. Второй игровой день</td>\n",
       "    </tr>\n",
       "    <tr>\n",
       "      <th>245</th>\n",
       "      <td>5540</td>\n",
       "      <td>0.336420</td>\n",
       "      <td>Регулярный чемпионат МГУ. Высшая лига. Третий ...</td>\n",
       "    </tr>\n",
       "    <tr>\n",
       "      <th>395</th>\n",
       "      <td>5726</td>\n",
       "      <td>0.316308</td>\n",
       "      <td>Первый турнир имени Джоуи Триббиани</td>\n",
       "    </tr>\n",
       "    <tr>\n",
       "      <th>567</th>\n",
       "      <td>5963</td>\n",
       "      <td>0.259259</td>\n",
       "      <td>Асинхрон по South Park</td>\n",
       "    </tr>\n",
       "    <tr>\n",
       "      <th>597</th>\n",
       "      <td>6003</td>\n",
       "      <td>0.254115</td>\n",
       "      <td>Второй тематический турнир имени Джоуи Триббиани</td>\n",
       "    </tr>\n",
       "    <tr>\n",
       "      <th>153</th>\n",
       "      <td>5438</td>\n",
       "      <td>0.193985</td>\n",
       "      <td>Синхрон Лиги Разума</td>\n",
       "    </tr>\n",
       "  </tbody>\n",
       "</table>\n",
       "</div>"
      ],
      "text/plain": [
       "      ids  complexity                                               name\n",
       "327  5636    0.372685                                   Кубок Закарпатья\n",
       "466  5827    0.370500                  Шестой киевский марафон. Асинхрон\n",
       "523  5899    0.365079                              Ничто, нигде, никогда\n",
       "544  5935    0.351754                        Асинхрон по «Королю и Шуту»\n",
       "648  6115    0.339506    Чемпионат МГУ. Высшая лига. Второй игровой день\n",
       "245  5540    0.336420  Регулярный чемпионат МГУ. Высшая лига. Третий ...\n",
       "395  5726    0.316308                Первый турнир имени Джоуи Триббиани\n",
       "567  5963    0.259259                             Асинхрон по South Park\n",
       "597  6003    0.254115   Второй тематический турнир имени Джоуи Триббиани\n",
       "153  5438    0.193985                                Синхрон Лиги Разума"
      ]
     },
     "execution_count": 41,
     "metadata": {},
     "output_type": "execute_result"
    }
   ],
   "source": [
    "complexity.sort_values(by=['complexity'], ascending = False).tail(10)"
   ]
  },
  {
   "cell_type": "markdown",
   "metadata": {},
   "source": [
    "Даже не очень разбирающийся в ЧГК-шных турнирах человек может заметить, что названия турниров в начале списка более статусные и звучные: в топ10 по сложности вошли чемпионаты стран/городов/областей. В то время как самый низкую сложность получили асинхронные и тематические турниры. Результат вполне соответствует нашей интуиции."
   ]
  }
 ],
 "metadata": {
  "kernelspec": {
   "display_name": "Python 3",
   "language": "python",
   "name": "python3"
  },
  "language_info": {
   "codemirror_mode": {
    "name": "ipython",
    "version": 3
   },
   "file_extension": ".py",
   "mimetype": "text/x-python",
   "name": "python",
   "nbconvert_exporter": "python",
   "pygments_lexer": "ipython3",
   "version": "3.8.3"
  }
 },
 "nbformat": 4,
 "nbformat_minor": 4
}
