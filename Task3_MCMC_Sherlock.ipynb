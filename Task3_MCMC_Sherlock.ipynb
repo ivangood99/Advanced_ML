{
 "cells": [
  {
   "cell_type": "code",
   "execution_count": 1,
   "metadata": {},
   "outputs": [],
   "source": [
    "import numpy as np\n",
    "import matplotlib.pyplot as plt\n",
    "import pandas as pd\n",
    "import math\n",
    "import re\n",
    "import random\n",
    "from datetime import date\n",
    "from IPython.display import clear_output"
   ]
  },
  {
   "cell_type": "markdown",
   "metadata": {},
   "source": [
    "<h3>Задание 1. Частотный анализ символов</h3>"
   ]
  },
  {
   "cell_type": "markdown",
   "metadata": {},
   "source": [
    "Загрузим текст \"Войны и мира\" и посчитаем статистики встречаемости отдельных символов"
   ]
  },
  {
   "cell_type": "code",
   "execution_count": 2,
   "metadata": {},
   "outputs": [],
   "source": [
    "f = open('./corpora/WarAndPeace.txt', 'r')\n",
    "text = f.read()\n",
    "text = ' '.join(text.lower().split())"
   ]
  },
  {
   "cell_type": "code",
   "execution_count": 3,
   "metadata": {},
   "outputs": [
    {
     "data": {
      "text/plain": [
       "714348"
      ]
     },
     "execution_count": 3,
     "metadata": {},
     "output_type": "execute_result"
    }
   ],
   "source": [
    "text_len = len(text)\n",
    "text_len"
   ]
  },
  {
   "cell_type": "code",
   "execution_count": 4,
   "metadata": {},
   "outputs": [
    {
     "data": {
      "text/plain": [
       "'annotation \"война и мир\" – самый известный роман льва николаевича толстого, как никакое другое произведение писателя, отражает глубину его мироощущения и философии. эта книга из разряда вечных, потому'"
      ]
     },
     "execution_count": 4,
     "metadata": {},
     "output_type": "execute_result"
    }
   ],
   "source": [
    "text[:200]"
   ]
  },
  {
   "cell_type": "code",
   "execution_count": 5,
   "metadata": {},
   "outputs": [],
   "source": [
    "symbol_frequency = dict()\n",
    "for i in range(ord('а'), ord('я') + 1):\n",
    "    symbol_frequency[chr(i)] = 0\n",
    "symbol_frequency[' '] = 0\n",
    "symbol_frequency['ё'] = 0"
   ]
  },
  {
   "cell_type": "code",
   "execution_count": 6,
   "metadata": {},
   "outputs": [],
   "source": [
    "for c in text:\n",
    "    if c in symbol_frequency.keys():\n",
    "        symbol_frequency[c] += 1\n",
    "for key in symbol_frequency.keys():\n",
    "    symbol_frequency[key] /= text_len"
   ]
  },
  {
   "cell_type": "code",
   "execution_count": 7,
   "metadata": {},
   "outputs": [
    {
     "data": {
      "text/plain": [
       "{'а': 0.06328708136650484,\n",
       " 'б': 0.01303286353429981,\n",
       " 'в': 0.034750569750317775,\n",
       " 'г': 0.015646435630812992,\n",
       " 'д': 0.022939799649470564,\n",
       " 'е': 0.059521409733071275,\n",
       " 'ж': 0.007643333501318685,\n",
       " 'з': 0.013441627890047988,\n",
       " 'и': 0.05016882527843572,\n",
       " 'й': 0.008693241949302022,\n",
       " 'к': 0.027056840643495887,\n",
       " 'л': 0.038184470314188604,\n",
       " 'м': 0.0223140542144725,\n",
       " 'н': 0.049162313046302364,\n",
       " 'о': 0.08578731934575305,\n",
       " 'п': 0.01938410970563367,\n",
       " 'р': 0.03439500075593408,\n",
       " 'с': 0.03937576643316703,\n",
       " 'т': 0.042862862358402344,\n",
       " 'у': 0.021633713540179296,\n",
       " 'ф': 0.0016924524181491374,\n",
       " 'х': 0.00643943848096446,\n",
       " 'ц': 0.0030503340108742516,\n",
       " 'ч': 0.010287702912306048,\n",
       " 'ш': 0.007125378666980239,\n",
       " 'щ': 0.002119415186995694,\n",
       " 'ъ': 0.0003961654543723787,\n",
       " 'ы': 0.014324950864284635,\n",
       " 'ь': 0.014695918515905413,\n",
       " 'э': 0.0022804011490198057,\n",
       " 'ю': 0.004892573367602345,\n",
       " 'я': 0.017466276940650775,\n",
       " ' ': 0.15930890826319946,\n",
       " 'ё': 0.000603347388107757}"
      ]
     },
     "execution_count": 7,
     "metadata": {},
     "output_type": "execute_result"
    }
   ],
   "source": [
    "symbol_frequency"
   ]
  },
  {
   "cell_type": "code",
   "execution_count": 8,
   "metadata": {},
   "outputs": [],
   "source": [
    "russian_alphabet = set(symbol_frequency.keys())"
   ]
  },
  {
   "cell_type": "markdown",
   "metadata": {},
   "source": [
    "Загрузим текст \"Евгения Онегина\" для тестирования, разделив его на строфы"
   ]
  },
  {
   "cell_type": "code",
   "execution_count": 9,
   "metadata": {},
   "outputs": [
    {
     "name": "stdout",
     "output_type": "stream",
     "text": [
      "--2021-05-04 16:47:27--  https://raw.githubusercontent.com/attatrol/data_sources/master/onegin.txt\r\n",
      "Распознаётся raw.githubusercontent.com (raw.githubusercontent.com)… ошибка: nodename nor servname provided, or not known.\r\n",
      "wget: не удаётся разрешить адрес «raw.githubusercontent.com»\r\n"
     ]
    }
   ],
   "source": [
    "!wget https://raw.githubusercontent.com/attatrol/data_sources/master/onegin.txt\n",
    "    \n",
    "with open('onegin.txt', 'r') as iofile:\n",
    "    text2 = iofile.readlines()\n",
    "    \n",
    "text2 = [x.replace('\\t\\t', '') for x in text2]"
   ]
  },
  {
   "cell_type": "code",
   "execution_count": 10,
   "metadata": {},
   "outputs": [],
   "source": [
    "def poetry_preprocessing(text):\n",
    "    poetry_texts = []\n",
    "    cur_poetry = ''\n",
    "    for i in range(len(text)):\n",
    "        sentence = text[i]\n",
    "        if len(sentence) > 15:\n",
    "            cur_poetry = cur_poetry + sentence.lower()\n",
    "        elif len(cur_poetry) > 100:\n",
    "            cur_poetry = re.sub(r\"\\W+\", \" \", cur_poetry).lower()\n",
    "            if set(cur_poetry).issubset(russian_alphabet):\n",
    "                poetry_texts.append(cur_poetry)\n",
    "            cur_poetry = ''\n",
    "    return poetry_texts"
   ]
  },
  {
   "cell_type": "code",
   "execution_count": 11,
   "metadata": {},
   "outputs": [
    {
     "name": "stdout",
     "output_type": "stream",
     "text": [
      "total texts: 342\n",
      "example:\n",
      " мой дядя самых честных правил когда не в шутку занемог он уважать себя заставил и лучше выдумать не мог его пример другим наука но боже мой какая скука с больным сидеть и день и ночь не отходя ни шагу прочь какое низкое коварство полуживого забавлять ему подушки поправлять печально подносить лекарство вздыхать и думать про себя когда же черт возьмет тебя \n"
     ]
    }
   ],
   "source": [
    "poetry_texts = poetry_preprocessing(text2)\n",
    "print(\"total texts:\", len(poetry_texts))\n",
    "print(\"example:\\n\" + poetry_texts[0])"
   ]
  },
  {
   "cell_type": "code",
   "execution_count": 12,
   "metadata": {},
   "outputs": [],
   "source": [
    "def encrypt_text(text):\n",
    "    letters = list(russian_alphabet)\n",
    "    subst_dict = dict()\n",
    "    new_letters = list(np.random.permutation(list(letters)))\n",
    "    for i in range(len(letters)):\n",
    "        subst_dict[letters[i]] = new_letters[i]\n",
    "    new_text = ''\n",
    "    for c in text:\n",
    "        new_text = new_text + subst_dict[c]\n",
    "    return new_text"
   ]
  },
  {
   "cell_type": "code",
   "execution_count": 13,
   "metadata": {},
   "outputs": [],
   "source": [
    "def decipher_text(text):\n",
    "    text_frequency = dict()\n",
    "    for i in range(ord('а'), ord('я') + 1):\n",
    "        text_frequency[chr(i)] = 0\n",
    "    text_frequency[' '] = 0\n",
    "    text_frequency['ё'] = 0\n",
    "    for c in text:\n",
    "        if c in symbol_frequency.keys():\n",
    "            text_frequency[c] += 1\n",
    "    current_symbols_frequencies = [k for k, v in sorted(text_frequency.items(), key=lambda item: -item[1])]\n",
    "    symbols_by_frequency = [k for k, v in sorted(symbol_frequency.items(), key=lambda item: -item[1])]\n",
    "    deciphered = ''\n",
    "    for c in text:\n",
    "        deciphered = deciphered + symbols_by_frequency[current_symbols_frequencies.index(c)]\n",
    "    return deciphered"
   ]
  },
  {
   "cell_type": "code",
   "execution_count": 14,
   "metadata": {},
   "outputs": [],
   "source": [
    "def get_quality(deciphered, original):\n",
    "    good = 0\n",
    "    for i in range(len(deciphered)):\n",
    "        if deciphered[i] == original[i]:\n",
    "            good += 1\n",
    "    return good/len(deciphered)\n",
    "\n",
    "def get_mean_quality(poetry_texts, encrypt_text, decipher_text, rule=None):\n",
    "    quality = 0\n",
    "    for test_example in poetry_texts:\n",
    "        encrypted_text = encrypt_text(test_example)\n",
    "        if rule:\n",
    "            deciphered_text = decipher_text(encrypted_text, rule)\n",
    "        else:\n",
    "            deciphered_text = decipher_text(encrypted_text)\n",
    "        quality += get_quality(deciphered_text, test_example)\n",
    "    return quality / len(poetry_texts)"
   ]
  },
  {
   "cell_type": "code",
   "execution_count": 15,
   "metadata": {},
   "outputs": [
    {
     "name": "stdout",
     "output_type": "stream",
     "text": [
      "Mean_score: 0.3081842066992136\n"
     ]
    }
   ],
   "source": [
    "print(\"Mean_score:\", get_mean_quality(poetry_texts, encrypt_text, decipher_text))"
   ]
  },
  {
   "cell_type": "code",
   "execution_count": 16,
   "metadata": {},
   "outputs": [
    {
     "name": "stdout",
     "output_type": "stream",
     "text": [
      "Whole_text: 0.5401557395981127\n"
     ]
    }
   ],
   "source": [
    "print(\"Whole_text:\", get_quality(decipher_text(encrypt_text(' '.join(poetry_texts))), ' '.join(poetry_texts)))"
   ]
  },
  {
   "cell_type": "code",
   "execution_count": 17,
   "metadata": {},
   "outputs": [
    {
     "name": "stdout",
     "output_type": "stream",
     "text": [
      "Example\n",
      "\n",
      "Original_example:\n",
      "  мой дядя самых честных правил когда не в шутку занемог он уважать себя заставил и лучше выдумать не мог его пример другим наука но боже мой какая скука с больным сидеть и день и ночь не отходя ни шагу прочь какое низкое коварство полуживого забавлять ему подушки поправлять печально подносить лекарство вздыхать и думать про себя когда же черт возьмет тебя  \n",
      "\n",
      "Encrypted:\n",
      " шгэаш о ошяегкъшыйяюжкъшмщерьнштэд ешжйшршичютчшзежйгэдшэжшчресеюушяйлошзеяюерьншьшнчыийшрк чгеюушжйшгэдшйдэшмщьгйщш щчдьгшжечтешжэшлэсйшгэаштетеошятчтешяшлэнужкгшяь йюушьш йжушьшжэыушжйшэюъэ ошжьшиедчшмщэыуштетэйшжьзтэйштэрещяюрэшмэнчсьрэдэшзелерноюушйгчшмэ читьшмэмщерноюушмйыенужэшмэ жэяьюушнйтещяюрэшрз къеюушьш чгеюушмщэшяйлоштэд ешсйшыйщюшрэзугйюшюйлош \n",
      "\n",
      "Deciphered:\n",
      "  дох кгкг мадчш беминчш упавля тоька не в йритр ыанедоь он рважаис мезг ыамиавля л ярбйе вчкрдаис не доь еьо уплдеп кпрьлд нарта но зоже дох татаг мтрта м зояснчд млкеис л кенс л нобс не оишокг нл йаьр упобс татое нлытое товапмиво уояржлвоьо ыазавягис едр уокрйтл уоупавягис уебаясно уокномлис яетапмиво выкчшаис л крдаис упо мезг тоька же бепи воысдеи иезг \n",
      "Quality:\n",
      " 0.4776536312849162\n"
     ]
    }
   ],
   "source": [
    "print(\"Example\\n\")\n",
    "print(\"Original_example:\\n\", poetry_texts[0], \"\\n\")\n",
    "encrypted = encrypt_text(poetry_texts[0])\n",
    "print(\"Encrypted:\\n\", encrypted, \"\\n\")\n",
    "deciphered = decipher_text(encrypted)\n",
    "print(\"Deciphered:\\n\", deciphered)\n",
    "print(\"Quality:\\n\", get_quality(deciphered, poetry_texts[0]))"
   ]
  },
  {
   "cell_type": "markdown",
   "metadata": {},
   "source": [
    "Видно, что пробелы и некоторые буквы угаданы верно, но текст все еще сложно узнаваем. Качество расшифровки на всем тексте Евгения Онегина выше, так как статистики на большем объеме данных более точные"
   ]
  },
  {
   "cell_type": "markdown",
   "metadata": {},
   "source": [
    "<h3>Задание 2. Частотный анализ биграмм</h3>"
   ]
  },
  {
   "cell_type": "markdown",
   "metadata": {},
   "source": [
    "Выплним подсчет аналогичных статистик, но уже не для символов, а биграмм"
   ]
  },
  {
   "cell_type": "code",
   "execution_count": 18,
   "metadata": {},
   "outputs": [],
   "source": [
    "bigram_frequency = dict()\n",
    "for i in russian_alphabet:\n",
    "    for j in russian_alphabet:\n",
    "        bigram_frequency[i + j] = 0\n",
    "for i in range(len(text) - 1):\n",
    "    if text[i] + text[i + 1] in bigram_frequency.keys():\n",
    "        bigram_frequency[text[i] + text[i + 1]] += 1\n",
    "for key in bigram_frequency.keys():\n",
    "    bigram_frequency[key] /= text_len\n",
    "bigram_frequency = {k:v for k, v in sorted(bigram_frequency.items(), key=lambda item: -item[1])}"
   ]
  },
  {
   "cell_type": "code",
   "execution_count": 19,
   "metadata": {},
   "outputs": [
    {
     "data": {
      "text/plain": [
       "0.0005725500736335792"
      ]
     },
     "execution_count": 19,
     "metadata": {},
     "output_type": "execute_result"
    }
   ],
   "source": [
    "bigram_frequency['г ']"
   ]
  },
  {
   "cell_type": "code",
   "execution_count": 20,
   "metadata": {},
   "outputs": [],
   "source": [
    "def decipher_text_bigrams(text):\n",
    "    current_frequency = dict()\n",
    "    for i in russian_alphabet:\n",
    "        for j in russian_alphabet:\n",
    "            current_frequency[i + j] = 0\n",
    "    for i in range(0, len(text) - 1, 2):\n",
    "        if text[i] + text[i + 1] in current_frequency.keys():\n",
    "            current_frequency[text[i] + text[i + 1]] += 1\n",
    "    current_bigram_frequencies = [k for k, v in sorted(current_frequency.items(), key=lambda item: -item[1])]\n",
    "    bigram_by_frequency = [k for k, v in sorted(bigram_frequency.items(), key=lambda item: -item[1])]\n",
    "    deciphered = ''\n",
    "    for i in range(0, len(text) - 1, 2):\n",
    "        deciphered = deciphered + bigram_by_frequency[current_bigram_frequencies.index(text[i] + text[i + 1])]\n",
    "    return deciphered"
   ]
  },
  {
   "cell_type": "code",
   "execution_count": 21,
   "metadata": {},
   "outputs": [
    {
     "name": "stdout",
     "output_type": "stream",
     "text": [
      "Mean_score: 0.09248590864270564\n"
     ]
    }
   ],
   "source": [
    "print(\"Mean_score:\", get_mean_quality(poetry_texts, encrypt_text, decipher_text_bigrams))"
   ]
  },
  {
   "cell_type": "code",
   "execution_count": 22,
   "metadata": {},
   "outputs": [
    {
     "name": "stdout",
     "output_type": "stream",
     "text": [
      "Whole_text: 0.13045666017751675\n"
     ]
    }
   ],
   "source": [
    "print(\"Whole_text:\", get_quality(decipher_text_bigrams(encrypt_text(' '.join(poetry_texts))), ' '.join(poetry_texts)))"
   ]
  },
  {
   "cell_type": "code",
   "execution_count": 23,
   "metadata": {},
   "outputs": [
    {
     "name": "stdout",
     "output_type": "stream",
     "text": [
      "Example\n",
      "\n",
      "Original_example:\n",
      "  мой дядя самых честных правил когда не в шутку занемог он уважать себя заставил и лучше выдумать не мог его пример другим наука но боже мой какая скука с больным сидеть и день и ночь не отходя ни шагу прочь какое низкое коварство полуживого забавлять ему подушки поправлять печально подносить лекарство вздыхать и думать про себя когда же черт возьмет тебя  \n",
      "\n",
      "Encrypted:\n",
      " а мюаябябауэ звагдуцжзвачиэрлоаъмыяэаждараьщцъщахэжд мыамжащрэкэцйаудебахэуцэрлоалаощгьдарзящ эцйажда мыадымачил диаяищыл ажэщъэажмаемкда мюаъэъэбауъщъэауаемойжз аулядцйалаяджйалажмгйаждамцвмябажлаьэыщачимгйаъэъмдажлхъмдаъмрэиуцрмачмощклрмымахэеэробцйад щачмящьълачмчиэробцйачдгэойжмачмяжмулцйаодъэиуцрмархязвэцйалаящ эцйачимаудебаъмыяэакдагдицармхй дцацдеба \n",
      "\n",
      "Deciphered:\n",
      " неь  дмоа ан мниростотни пго те  ввои я имор ч ино опрбый азннтинатол а ностго тпоемларееробко бо  оне вжеойалесвальделиняи ом ни  ссяегнеь е скогто з нтолекаеннытосьоно олк оспои ово  о еилтаа рау ат и пово  ндая рарум е в тест аалкалоит в сновстрето ин и какелол к пгоавнаалт оден с к рзан о чт ндоть сисвеы напо дко бо  п с гчее  ввоася ромиерривион ул а \n",
      "Quality:\n",
      " 0.10614525139664804\n"
     ]
    }
   ],
   "source": [
    "print(\"Example\\n\")\n",
    "print(\"Original_example:\\n\", poetry_texts[0], \"\\n\")\n",
    "encrypted = encrypt_text(poetry_texts[0])\n",
    "print(\"Encrypted:\\n\", encrypted, \"\\n\")\n",
    "deciphered = decipher_text_bigrams(encrypted)\n",
    "print(\"Deciphered:\\n\", deciphered)\n",
    "print(\"Quality:\\n\", get_quality(deciphered, poetry_texts[0]))"
   ]
  },
  {
   "cell_type": "markdown",
   "metadata": {},
   "source": [
    "<h3>Задание 3. MCMC-cэмплирование. Блуждание Метрополиса-Гастингса</h3>"
   ]
  },
  {
   "cell_type": "markdown",
   "metadata": {},
   "source": [
    "Пусть есть зашифрованный текст. \n",
    "\n",
    "1)Каждому символу в соответствие поставим случайным образом букву русского алфавита. Назовем это текущим правилом подстановки. Далее посчитаем \"правдоподобие\" текста, полученного после замены всех символов зашифрованного текста с помощью выбранного правила подстановки. Для подсчета \"правдоподобия\" для каждой пары последовательных букв в тексте после применения правил подстановки посчитаем статистику ее встречаемости в \"Войне и мире\". После чего все полученные значения перемножим. Эта величина будет задавать \"правдоподобие\" полученного текста и соответсвенно качество правила подстановки.\n",
    "\n",
    "2)Далее случайным образом изменим текущее правило подстановки для двух символов.\n",
    "\n",
    "3)Если качество нового правила подстановки выше текущего, то новое правило подстановки становится текущим и переходим к шагу 5 \n",
    "\n",
    "4)Если качество нового правила подстановки хуже текущего, то подбрасываем монетку, которая с вероятностью \n",
    "(качество новой подстановки)/(качество текущей подстановки) выпадает орлом. Если выпадает орел, новое правило подстановки становится текущим и переходим к шагу 5. Иначе остаемся при текущем правиле и переходим к шагу 5\n",
    "\n",
    "5)Если текущее правило подстановки не помогает однозначно расшифровать текст, переходим к шагу 2"
   ]
  },
  {
   "cell_type": "code",
   "execution_count": 24,
   "metadata": {},
   "outputs": [],
   "source": [
    "def decipher_rule(text, rule={x:x for x in russian_alphabet}):\n",
    "    new_text = ''\n",
    "    for i in range(len(text)):\n",
    "        new_text += rule[text[i]]\n",
    "    return new_text"
   ]
  },
  {
   "cell_type": "code",
   "execution_count": 25,
   "metadata": {},
   "outputs": [],
   "source": [
    "def get_text_likelihood(deciphered_text, bigram_frequency):\n",
    "    likelihood = 1\n",
    "    for i in range(len(deciphered_text) - 1):\n",
    "        if bigram_frequency[deciphered_text[i] + deciphered_text[i + 1]] > 0:\n",
    "            likelihood *= bigram_frequency[deciphered_text[i] + deciphered_text[i + 1]] * 1000\n",
    "        else:\n",
    "            likelihood *= 0.1\n",
    "    return likelihood"
   ]
  },
  {
   "cell_type": "code",
   "execution_count": 26,
   "metadata": {},
   "outputs": [
    {
     "data": {
      "image/png": "[encoded data removed]",
      "text/plain": [
       "<Figure size 432x288 with 1 Axes>"
      ]
     },
     "metadata": {
      "needs_background": "light"
     },
     "output_type": "display_data"
    },
    {
     "name": "stdout",
     "output_type": "stream",
     "text": [
      "1.4325778241252271e+184  мой дядя самых шестных пварил когда не р чутку занемог он уражать себя застарил и лушче рыдумать не мог его пвимев двугим наука но боже мой какая скука с больным сидеть и день и ношь не отходя ни чагу пвошь какое низкое коравстро полужирого забарлять ему подучки попварлять пешально подносить лекавстро рздыхать и думать пво себя когда же шевт розьмет тебя \n"
     ]
    }
   ],
   "source": [
    "test_text = \"\"\"нгжднхихинчйглёнцечоклёнбфйщвмныжъхйнкенщньзоызнуйкегжънжкнзщйтйошнчеринуйчойщвмнвнмзцьенщлхзгйошнкенгжънеъжнбфвгефнхфзъвгнкйзыйнкжнржтенгждныйыйинчызыйнчнржмшклгнчвхеошнвнхекшнвнкжцшнкенжоёжхинквньйъзнбфжцшныйыженквуыженыжщйфчощжнбжмзтвщжъжнуйрйщмиошнегзнбжхзьывнбжбфйщмиошнбецймшкжнбжхкжчвошнмеыйфчощжнщухлёйошнвнхзгйошнбфжнчериныжъхйнтенцефонщжушгеоноерин\"\"\"\n",
    "original_text =  \"\"\" мой дядя самых честных правил когда не в шутку занемог он уважать себя заставил и лучше выдумать не мог его пример другим наука но боже мой какая скука с больным сидеть и день и ночь не отходя ни шагу прочь какое низкое коварство полуживого забавлять ему подушки поправлять печально подносить лекарство вздыхать и думать про себя когда же черт возьмет тебя \"\"\"\n",
    "cur_rule = {x:x for x in russian_alphabet}\n",
    "likelihood = get_text_likelihood(decipher_rule(test_text, rule=cur_rule), bigram_frequency)\n",
    "history = []\n",
    "\n",
    "\n",
    "for i in range(10 ** 5):\n",
    "    choice = random.choices(list(russian_alphabet), k = 2)\n",
    "    new_rule = cur_rule.copy()\n",
    "    new_rule[choice[0]], new_rule[choice[1]] = new_rule[choice[1]], new_rule[choice[0]]\n",
    "    cur_likelihood = get_text_likelihood(decipher_rule(test_text, rule=new_rule), bigram_frequency)\n",
    "    if cur_likelihood > likelihood:\n",
    "        likelihood = cur_likelihood\n",
    "        cur_rule = new_rule.copy()\n",
    "    else:\n",
    "        if random.random() < cur_likelihood / likelihood:\n",
    "            likelihood = cur_likelihood\n",
    "            cur_rule = new_rule.copy()\n",
    "    if i % 500 == 0:\n",
    "        history.append(get_quality(decipher_rule(test_text, rule=new_rule), original_text))\n",
    "        clear_output(True)\n",
    "        plt.plot(history,label='quality')\n",
    "        plt.legend()\n",
    "        plt.show()\n",
    "        print(likelihood, decipher_rule(test_text, rule=new_rule))\n",
    "        if get_quality(decipher_rule(test_text, rule=new_rule), original_text) > 0.9:\n",
    "            break"
   ]
  },
  {
   "cell_type": "code",
   "execution_count": 27,
   "metadata": {},
   "outputs": [
    {
     "data": {
      "text/plain": [
       "0.9078212290502793"
      ]
     },
     "execution_count": 27,
     "metadata": {},
     "output_type": "execute_result"
    }
   ],
   "source": [
    "get_quality(decipher_rule(test_text, rule=new_rule), original_text)"
   ]
  },
  {
   "cell_type": "markdown",
   "metadata": {},
   "source": [
    "Можно заметить, что качество расшифровки заметно выросло и изначальный текст можно угадать, посомтрев на результат. Посимвольное совпадение получить вряд ли получится, так как частоты встречаемости биграм в исходном тексте не совпадают с частой встречаемости в \"Войне и мире\""
   ]
  },
  {
   "cell_type": "markdown",
   "metadata": {},
   "source": [
    "<h3>Задание 4. Расшифровка закодированного сообщения</h3>"
   ]
  },
  {
   "cell_type": "markdown",
   "metadata": {},
   "source": [
    "Так как задание на русском, предположим, что зашифрован русскоязычный текст"
   ]
  },
  {
   "cell_type": "code",
   "execution_count": 37,
   "metadata": {},
   "outputs": [],
   "source": [
    "message = \"\"\"←⇠⇒↟↹↷⇊↹↷↟↤↟↨←↹↝⇛⇯↳⇴⇒⇈↝⇊↾↹↟⇒↟↹⇷⇛⇞↨↟↹↝⇛⇯↳⇴⇒⇈↝⇊↾↹↨←⇌⇠↨↹⇙↹⇸↨⇛↙⇛↹⇠⇛⇛↲⇆←↝↟↞↹⇌⇛↨⇛⇯⇊↾↹⇒←↙⇌⇛↹⇷⇯⇛⇞↟↨⇴↨⇈↹⇠⇌⇛⇯←←↹↷⇠←↙⇛↹↷⇊↹↷⇠←↹⇠↤←⇒⇴⇒↟↹⇷⇯⇴↷↟⇒⇈↝⇛↹↟↹⇷⇛⇒⇙⇞↟↨←↹↳⇴⇌⇠↟↳⇴⇒⇈↝⇊↾↹↲⇴⇒⇒↹⇰⇴↹⇷⇛⇠⇒←↤↝←←↹⇞←↨↷←⇯↨⇛←↹⇰⇴↤⇴↝↟←↹⇌⇙⇯⇠⇴↹↘⇛↨↞↹⇌⇛↝←⇞↝⇛↹↞↹↝↟⇞←↙⇛↹↝←↹⇛↲←⇆⇴⇏\"\"\""
   ]
  },
  {
   "cell_type": "code",
   "execution_count": 38,
   "metadata": {},
   "outputs": [
    {
     "data": {
      "text/plain": [
       "28"
      ]
     },
     "execution_count": 38,
     "metadata": {},
     "output_type": "execute_result"
    }
   ],
   "source": [
    "symbols = set(message)\n",
    "len(symbols)"
   ]
  },
  {
   "cell_type": "code",
   "execution_count": 39,
   "metadata": {},
   "outputs": [
    {
     "data": {
      "text/plain": [
       "34"
      ]
     },
     "execution_count": 39,
     "metadata": {},
     "output_type": "execute_result"
    }
   ],
   "source": [
    "len(russian_alphabet)"
   ]
  },
  {
   "cell_type": "markdown",
   "metadata": {},
   "source": [
    "Добьем число исходных символов до размера русскоязычного алфавита для возможности задать биекцию"
   ]
  },
  {
   "cell_type": "code",
   "execution_count": 40,
   "metadata": {},
   "outputs": [],
   "source": [
    "symbols.add('a')\n",
    "symbols.add('b')\n",
    "symbols.add('c')\n",
    "symbols.add('d')\n",
    "symbols.add('e')\n",
    "symbols.add('f')"
   ]
  },
  {
   "cell_type": "code",
   "execution_count": 46,
   "metadata": {},
   "outputs": [],
   "source": [
    "symbols = list(symbols)\n",
    "letters = list(russian_alphabet)"
   ]
  },
  {
   "cell_type": "code",
   "execution_count": 47,
   "metadata": {},
   "outputs": [],
   "source": [
    "cur_rule = dict()\n",
    "for i in range(len(symbols)):\n",
    "    cur_rule[symbols[i]] = letters[i]"
   ]
  },
  {
   "cell_type": "code",
   "execution_count": 48,
   "metadata": {},
   "outputs": [
    {
     "data": {
      "text/plain": [
       "'ш'"
      ]
     },
     "execution_count": 48,
     "metadata": {},
     "output_type": "execute_result"
    }
   ],
   "source": [
    "cur_rule['↝']"
   ]
  },
  {
   "cell_type": "code",
   "execution_count": 49,
   "metadata": {},
   "outputs": [
    {
     "name": "stdout",
     "output_type": "stream",
     "text": [
      "9.838064699422313e+125 если вы вимите норзальнык или подти норзальнык тейст у этого сообщения йоторык легйо продитать сйорее всего вы все смелали правильно и полудите зайсизальнык балл ча послемнее детвертое чамание йурса фотя йонедно я нидего не обещаю\n"
     ]
    }
   ],
   "source": [
    "likelihood = get_text_likelihood(decipher_rule(message, rule=cur_rule), bigram_frequency)\n",
    "\n",
    "for i in range(10 ** 6):\n",
    "    choice = random.choices(symbols, k = 2)\n",
    "    new_rule = cur_rule.copy()\n",
    "    new_rule[choice[0]], new_rule[choice[1]] = new_rule[choice[1]], new_rule[choice[0]]\n",
    "    cur_likelihood = get_text_likelihood(decipher_rule(message, rule=new_rule), bigram_frequency)\n",
    "    if cur_likelihood > likelihood:\n",
    "        likelihood = cur_likelihood\n",
    "        cur_rule = new_rule.copy()\n",
    "    else:\n",
    "        if random.random() < cur_likelihood / likelihood:\n",
    "            likelihood = cur_likelihood\n",
    "            cur_rule = new_rule.copy()\n",
    "    if i % 500 == 0:\n",
    "        clear_output(True)\n",
    "        print(likelihood, decipher_rule(message, rule=new_rule))"
   ]
  },
  {
   "cell_type": "markdown",
   "metadata": {},
   "source": [
    "Прочитать сообщение не составляет труда, особенно когда текст печатается каждые 500 итераций(правильные буквы довольно часто встают на свои места):\n",
    "\"Если вы видите нормальный или почти нормальный текст у этого сообщения, который легко прочитать, скорее всего, вы все сделали правильно и получите максимальный балл за последнее четвертое задание курса, хотя, конечно, я ничего не обещаю\""
   ]
  }
 ],
 "metadata": {
  "kernelspec": {
   "display_name": "Python 3",
   "language": "python",
   "name": "python3"
  },
  "language_info": {
   "codemirror_mode": {
    "name": "ipython",
    "version": 3
   },
   "file_extension": ".py",
   "mimetype": "text/x-python",
   "name": "python",
   "nbconvert_exporter": "python",
   "pygments_lexer": "ipython3",
   "version": "3.9.0"
  }
 },
 "nbformat": 4,
 "nbformat_minor": 4
}
